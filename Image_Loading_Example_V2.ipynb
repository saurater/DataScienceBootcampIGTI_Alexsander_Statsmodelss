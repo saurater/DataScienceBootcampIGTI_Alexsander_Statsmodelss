{
  "nbformat": 4,
  "nbformat_minor": 0,
  "metadata": {
    "colab": {
      "name": "Image Loading Example V2.ipynb",
      "provenance": [],
      "collapsed_sections": [],
      "include_colab_link": true
    },
    "kernelspec": {
      "name": "python3",
      "display_name": "Python 3"
    },
    "language_info": {
      "name": "python"
    }
  },
  "cells": [
    {
      "cell_type": "markdown",
      "metadata": {
        "id": "view-in-github",
        "colab_type": "text"
      },
      "source": [
        "<a href=\"https://colab.research.google.com/github/saurater/DataScienceBootcampIGTI_Alexsander_Statsmodelss/blob/main/Image_Loading_Example_V2.ipynb\" target=\"_parent\"><img src=\"https://colab.research.google.com/assets/colab-badge.svg\" alt=\"Open In Colab\"/></a>"
      ]
    },
    {
      "cell_type": "markdown",
      "source": [
        "# Image Loading Example\n",
        "\n",
        "V2\n",
        "\n",
        "**Created by** angelollima \n",
        "https://stackoverflow.com/users/19661764/angelollima\n",
        "\n",
        "**Adapted by** Sam Faraday"
      ],
      "metadata": {
        "id": "Jp1wRoyz6hvM"
      }
    },
    {
      "cell_type": "code",
      "execution_count": null,
      "metadata": {
        "id": "WkiWMnmM6GVX"
      },
      "outputs": [],
      "source": [
        "import requests"
      ]
    },
    {
      "cell_type": "code",
      "source": [
        "import os"
      ],
      "metadata": {
        "id": "T6Lc7qlu6Jrg"
      },
      "execution_count": null,
      "outputs": []
    },
    {
      "cell_type": "code",
      "source": [
        "from PIL import Image"
      ],
      "metadata": {
        "id": "dlIQuML56LfS"
      },
      "execution_count": null,
      "outputs": []
    },
    {
      "cell_type": "code",
      "source": [
        "from io import BytesIO"
      ],
      "metadata": {
        "id": "zgsUJUGo6Nrh"
      },
      "execution_count": null,
      "outputs": []
    },
    {
      "cell_type": "code",
      "source": [
        "request = requests.get(\"https://mocki.io/v1/9a7c1ca9-29b4-4eb3-8306-1adb9d159060\").json()"
      ],
      "metadata": {
        "id": "l2uI5WB26RsZ"
      },
      "execution_count": null,
      "outputs": []
    },
    {
      "cell_type": "code",
      "source": [
        "films = request[\"items\"]"
      ],
      "metadata": {
        "id": "dlsLvSld6Ufa"
      },
      "execution_count": null,
      "outputs": []
    },
    {
      "cell_type": "code",
      "source": [
        "contador = 0"
      ],
      "metadata": {
        "id": "eCdkV5ipNWCD"
      },
      "execution_count": null,
      "outputs": []
    },
    {
      "cell_type": "markdown",
      "source": [
        "# Please run it in your local machine or change the file path"
      ],
      "metadata": {
        "id": "cFmr9wpi60HU"
      }
    },
    {
      "cell_type": "code",
      "source": [
        "for film in films:\n",
        "    image = requests.get(film['image']).content\n",
        "    try: os.makedirs('C:/stickers') # <-- add full path here\n",
        "\n",
        "    except:\n",
        "        pass\n",
        "\n",
        "    try:\n",
        "        image = Image.open(BytesIO(image))\n",
        "        image.thumbnail((600,600))            # add fp (file path) parameter as below\n",
        "        contador += 1\n",
        "        image.save(optimize=True, quality=40, fp=os.path.join(\"c:/stickers\", film['title'] + \".jpg\"))\n",
        "    except Exception as e:\n",
        "\n",
        "        print(e)\n",
        "        print(str(contador), \" - \", (films[contador]['title']))\n",
        "        print(str(contador), \" - \", (films[contador]['image']))"
      ],
      "metadata": {
        "id": "fX3f97z-6G7x"
      },
      "execution_count": null,
      "outputs": []
    }
  ]
}